{
 "cells": [
  {
   "cell_type": "code",
   "execution_count": null,
   "metadata": {},
   "outputs": [],
   "source": [
    "'''\n",
    "Author: Olivia McAuley\n",
    "\n",
    "Last edited by Olivia Aug 27, 2022\n",
    "'''\n",
    "\n",
    "%run TimeDepBarParams.ipynb"
   ]
  },
  {
   "cell_type": "code",
   "execution_count": null,
   "metadata": {},
   "outputs": [],
   "source": [
    "##### Plot the potential in rotating frame #####\n",
    "\n",
    "radius = np.linspace(0,1) # this is the radius to be given in the centrifugal term\n",
    "\n",
    "centrifugal_term = 0.5*omegabo**2 * radius**2\n",
    "\n",
    "y = np.linspace(0,1) # will give the y axis coordinate\n",
    "\n",
    "potential_term = evaluatePotentials(mwp+bp, y, z=0, phi=0, t=tsteady)\n",
    "\n",
    "print ('This is evalPot(mwp+bp):',potential_term,'\\n')\n",
    "\n",
    "# print('This is the shape of MWP + BP:',np.shape(potential_term))\n",
    "\n",
    "rot_frame = potential_term - centrifugal_term # put the potential in rotating frame\n",
    "\n",
    "##### Annotate maximum value in graph #####\n",
    "\n",
    "fig, ax = plt.subplots()\n",
    "ax.plot(y,rot_frame,color='b',label='MWP+BP Rotating Frame')\n",
    "\n",
    "def annot_max(x,y, ax=None):\n",
    "    xmax = x[np.argmax(y)]\n",
    "    ymax = y.max()\n",
    "    text= \"y={:.3f}, MWP+BP={:.3f}\".format(xmax, ymax)\n",
    "    if not ax:\n",
    "        ax=plt.gca()\n",
    "    bbox_props = dict(boxstyle=\"square,pad=0.3\", fc=\"w\", ec=\"deeppink\", lw=0.72)\n",
    "    arrowprops=dict(arrowstyle=\"->\",connectionstyle=\"angle,angleA=0,angleB=60\", ec='deeppink')\n",
    "    kw = dict(xycoords='data',textcoords=\"axes fraction\",\n",
    "              arrowprops=arrowprops, bbox=bbox_props, ha=\"right\", va=\"top\")\n",
    "    ax.annotate(text, xy=(xmax, ymax), xytext=(0.94,0.96), **kw)\n",
    "\n",
    "annot_max(y,rot_frame)\n",
    "\n",
    "plot(y, potential_term,color='k',label='MWP + BP')\n",
    "plot(y, centrifugal_term,color='r',label='Centrifugal Force')\n",
    "plt.xlabel('y (natural units)')\n",
    "plt.ylabel('MWP + BP (natural units)')\n",
    "plt.ylim(-5,5)\n",
    "plt.xlim(0,1)\n",
    "plt.legend(loc='center left', bbox_to_anchor=(1, 0.5))\n",
    "plt.show()\n",
    "##########################################\n",
    "\n",
    "xmax = y[np.argmax(rot_frame)]\n",
    "ymax = rot_frame.max()\n",
    "print ('This is xmax at t=tsteady:', xmax)\n",
    "\n",
    "L5 = xmax\n",
    "\n",
    "print ('This is L4/5 in natural units:',L5)\n",
    "print ('This is L4/5 in physical units:',L5*ro,'kpc')"
   ]
  }
 ],
 "metadata": {
  "kernelspec": {
   "display_name": "Python 3",
   "language": "python",
   "name": "python3"
  },
  "language_info": {
   "codemirror_mode": {
    "name": "ipython",
    "version": 3
   },
   "file_extension": ".py",
   "mimetype": "text/x-python",
   "name": "python",
   "nbconvert_exporter": "python",
   "pygments_lexer": "ipython3",
   "version": "3.8.2"
  }
 },
 "nbformat": 4,
 "nbformat_minor": 4
}
