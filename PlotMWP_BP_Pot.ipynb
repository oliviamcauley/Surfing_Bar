{
 "cells": [
  {
   "cell_type": "code",
   "execution_count": null,
   "metadata": {},
   "outputs": [],
   "source": [
    "##### Plot MWP + BP potential #####\n",
    "\n",
    "def plotpotentialcontour(time):\n",
    "    return plotPotentials(mwp+bp, rmin=-0.5, rmax=0.5, nrs=21, zmin=-0.5, zmax=0.5, nzs=21, phi=0, xy=True, t=time, effective=False, ncontours=101, aspect=1, justcontours=True, levels=None, cntrcolors=None)\n",
    "\n",
    "plotpotentialcontour(0)\n",
    "plotpotentialcontour(np.pi/3)\n",
    "plotpotentialcontour(np.pi/4)\n",
    "plotpotentialcontour(np.pi/6)\n",
    "plotpotentialcontour(np.pi/2)\n",
    "\n",
    "#####################################################################################################"
   ]
  }
 ],
 "metadata": {
  "kernelspec": {
   "display_name": "Python 3",
   "language": "python",
   "name": "python3"
  },
  "language_info": {
   "codemirror_mode": {
    "name": "ipython",
    "version": 3
   },
   "file_extension": ".py",
   "mimetype": "text/x-python",
   "name": "python",
   "nbconvert_exporter": "python",
   "pygments_lexer": "ipython3",
   "version": "3.8.2"
  }
 },
 "nbformat": 4,
 "nbformat_minor": 4
}
