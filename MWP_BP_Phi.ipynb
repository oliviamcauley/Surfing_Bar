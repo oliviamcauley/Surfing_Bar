{
 "cells": [
  {
   "cell_type": "code",
   "execution_count": null,
   "metadata": {},
   "outputs": [],
   "source": [
    "##### Plot phi in the mwp+bp potential #####\n",
    "\n",
    "# phis = [e.phi() for e in shifted_cluster]\n",
    "phi = np.linspace(0,2*np.pi)\n",
    "# print (np.shape(phi))\n",
    "r = L5\n",
    "\n",
    "potential_term = evaluatePotentials(mwp+bp, R=L5 , z=0, phi=phi, t=tsteady)\n",
    "plt.vlines(np.pi/2,-2.0716,-2.0709)\n",
    "\n",
    "plt.ylabel('MWP+BP')\n",
    "plt.xlabel('$\\phi$')\n",
    "\n",
    "plot(phi,potential_term)"
   ]
  }
 ],
 "metadata": {
  "kernelspec": {
   "display_name": "Python 3",
   "language": "python",
   "name": "python3"
  },
  "language_info": {
   "codemirror_mode": {
    "name": "ipython",
    "version": 3
   },
   "file_extension": ".py",
   "mimetype": "text/x-python",
   "name": "python",
   "nbconvert_exporter": "python",
   "pygments_lexer": "ipython3",
   "version": "3.8.2"
  }
 },
 "nbformat": 4,
 "nbformat_minor": 4
}
