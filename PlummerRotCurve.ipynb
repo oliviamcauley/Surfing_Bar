{
 "cells": [
  {
   "cell_type": "code",
   "execution_count": null,
   "metadata": {},
   "outputs": [],
   "source": [
    "##### Rotation Curve for Plummer Potential #####\n",
    "\n",
    "print ('This plot is the rotation curve for the Plummer potential:')\n",
    "plotRotcurve(pp)\n",
    "plt.xlim(0,1)"
   ]
  },
  {
   "cell_type": "code",
   "execution_count": null,
   "metadata": {},
   "outputs": [],
   "source": [
    "##### Rotation Curve for Plummer Potential that is offset to be at L4/5 #####\n",
    "\n",
    "print ('This plot is the rotation curve for the offset Plummer potential:')\n",
    "plotRotcurve(sbwp)\n",
    "plt.xlim(0,1)"
   ]
  }
 ],
 "metadata": {
  "kernelspec": {
   "display_name": "Python 3",
   "language": "python",
   "name": "python3"
  },
  "language_info": {
   "codemirror_mode": {
    "name": "ipython",
    "version": 3
   },
   "file_extension": ".py",
   "mimetype": "text/x-python",
   "name": "python",
   "nbconvert_exporter": "python",
   "pygments_lexer": "ipython3",
   "version": "3.8.2"
  }
 },
 "nbformat": 4,
 "nbformat_minor": 4
}
