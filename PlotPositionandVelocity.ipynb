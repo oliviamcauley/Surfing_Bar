{
 "cells": [
  {
   "cell_type": "code",
   "execution_count": null,
   "metadata": {},
   "outputs": [],
   "source": [
    "##### Plot the cluster position before we integrate ########################\n",
    "##### We should see the cluster located at position (0,L4/5,0) #####\n",
    "\n",
    "plot([shifted_cluster.R()],[shifted_cluster.z()],'ro')\n",
    "plt.ylabel('z')\n",
    "plt.xlabel('R')\n",
    "# plt.xlim(-10,10)\n",
    "# plt.ylim(-10,10)\n",
    "plt.show()\n",
    "\n",
    "plot([shifted_cluster.x()],[shifted_cluster.y()],'ro')\n",
    "plt.ylabel('y')\n",
    "plt.xlabel('x')\n",
    "# plt.xlim(-10,10)\n",
    "# plt.ylim(-10,10)\n",
    "plt.show()"
   ]
  },
  {
   "cell_type": "code",
   "execution_count": null,
   "metadata": {},
   "outputs": [],
   "source": [
    "##### Plot the cluster velocity before we integrate #####\n",
    "\n",
    "\n",
    "plot(vo*sam.vx(),vo*sam.vy(),'ro')\n",
    "plt.ylabel('vy (km/s)')\n",
    "plt.xlabel('vx (km/s)')\n",
    "# plt.xlim(-10,10)\n",
    "# plt.ylim(-10,10)\n",
    "plt.show()\n",
    "\n",
    "##### We should see the cluster located at position (0,L4/5,0) #####\n",
    "\n",
    "plot(vo*shifted_vel[0],vo*shifted_vel[1],'ro') \n",
    "plt.ylabel('vphi (km/s)') \n",
    "plt.xlabel('vR (km/s)')\n",
    "# plt.xlim(-10,10)\n",
    "# plt.ylim(-10,10)\n",
    "plt.show()"
   ]
  },
  {
   "cell_type": "code",
   "execution_count": null,
   "metadata": {},
   "outputs": [],
   "source": [
    "##### Velocity vs radius plot with cluster shifted to (0,L4/5,0) #####\n",
    "\n",
    "plot(ro*shifted_pos[0],vo*shifted_vel[1],'ro')\n",
    "plt.ylabel('vphi (km/s)')\n",
    "plt.xlabel('R (kpc)')\n",
    "# plt.xlim(-10,10)\n",
    "# plt.ylim(-10,10)\n",
    "plt.show()\n",
    "\n",
    "plot(ro*shifted_pos[0],vo*shifted_vel[0],'ro')\n",
    "plt.ylabel('vR (km/s)')\n",
    "plt.xlabel('R (kpc)')\n",
    "# plt.xlim(-10,10)\n",
    "# plt.ylim(-10,10)\n",
    "plt.show()"
   ]
  }
 ],
 "metadata": {
  "kernelspec": {
   "display_name": "Python 3",
   "language": "python",
   "name": "python3"
  },
  "language_info": {
   "codemirror_mode": {
    "name": "ipython",
    "version": 3
   },
   "file_extension": ".py",
   "mimetype": "text/x-python",
   "name": "python",
   "nbconvert_exporter": "python",
   "pygments_lexer": "ipython3",
   "version": "3.8.2"
  }
 },
 "nbformat": 4,
 "nbformat_minor": 4
}
