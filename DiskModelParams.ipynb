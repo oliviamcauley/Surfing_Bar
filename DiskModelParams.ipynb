{
 "cells": [
  {
   "cell_type": "code",
   "execution_count": null,
   "metadata": {},
   "outputs": [],
   "source": [
    "'''\n",
    "Author: Olivia McAuley\n",
    "\n",
    "Last edited by Olivia Aug 27, 2022\n",
    "'''\n",
    "\n",
    "##### Important scale factors #####\n",
    "\n",
    "# Scales to be use for conversion from natural coordinates\n",
    "ro = 8.   # (kpc) scale radii\n",
    "vo = 220. # (km/s) scale velocity at ro\n",
    "\n",
    "##################################################\n",
    "\n",
    "##### Set model parameters for potentials and DF #####\n",
    "\n",
    "hro  = 1./3.   # Scale length for surface density\n",
    "sro  = 0.16    # Radial velocity dispersion at ro in natural coordinates (times vo to get in physical at ro)\n",
    "szo  = sro/2   # Vertical velocity dispersion at ro in natural coordinates (times vo to get in physical at ro)\n",
    "hsro = 3.*hro  # Radial scale length for radial velocity dispersion profile\n",
    "hszo = hsro    # Radial scale length for vertical velocity dispersion profile\n",
    "\n",
    "##################################################\n",
    "\n",
    "##### Set parameters for initial conditions #####\n",
    "\n",
    "nsample = 1000 # number of samples\n",
    "nbatch = 10    # number of batches of nsample orbits\n",
    "rmin = 0.375   # sets scaled rmin = 3kpc\n",
    "rmax = 1.125   # sets scaled rmax = 9kpc\n",
    "zmax = 0.3     # sets scales zmax = 2.4 kpc\n",
    "AAType = 'stklAA' # Action Angle approx for ICs\n",
    "\n",
    "##################################################\n",
    "\n",
    "##### Set up underlying initial axi-symmetric potential for the disk #####\n",
    "\n",
    "dpType = 'MW14'\n",
    "mwp = MWPotential2014"
   ]
  }
 ],
 "metadata": {
  "kernelspec": {
   "display_name": "Python 3",
   "language": "python",
   "name": "python3"
  },
  "language_info": {
   "codemirror_mode": {
    "name": "ipython",
    "version": 3
   },
   "file_extension": ".py",
   "mimetype": "text/x-python",
   "name": "python",
   "nbconvert_exporter": "python",
   "pygments_lexer": "ipython3",
   "version": "3.8.2"
  }
 },
 "nbformat": 4,
 "nbformat_minor": 4
}
