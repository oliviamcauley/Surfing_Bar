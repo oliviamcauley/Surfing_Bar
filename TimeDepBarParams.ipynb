{
 "cells": [
  {
   "cell_type": "code",
   "execution_count": null,
   "metadata": {},
   "outputs": [],
   "source": [
    "%run SimParams.ipynb"
   ]
  },
  {
   "cell_type": "code",
   "execution_count": null,
   "metadata": {},
   "outputs": [],
   "source": [
    "##### Set up the growing bar potential #####\n",
    "# The Dehnen bar potential is initialized to start bar formation four bar periods before the \n",
    "# present day and to have completely formed the bar two bar periods ago. \n",
    "# We can integrate back to the time before bar-formation:\n",
    "\n",
    "##### Set up the bar potential parameters #####\n",
    "rbo = 0.5 # rbo = 4 kpc # 0.625 # Bar length is in natural units (set to 5 kpc - Li+2016 at 6.7 kpc for same vo)\n",
    "ao = rbo # Bar half length\n",
    "bo = rbo/4 # Tri-axial softening length\n",
    "co = rbo/4 # Prolate softening length\n",
    "CRo = .5 # CRo = 4 kpc # Bar corotation\n",
    "v_c = vcirc(mwp, R = CRo)# v_c in natural units and it's the v_c at corotation radius\n",
    "omegabo = v_c/CRo# Pattern speed based on CR #orbital freq = v_c/R : we need to figure out v_c at CR\n",
    "print ('This is omegabo in physical units:', omegabo*(vo/ro),'km/s/kpc')\n",
    "print ('This is omegabo in natural units:', omegabo)\n",
    "\n",
    "##### Amplitude of bar potential #####\n",
    "alpha = 0.015 # bar strength. Most accurate is from Bovy 2015\n",
    "Ab = (1/3)*alpha*(1/rbo)**3 # Bar strength (defaults to Ab=1)\n",
    "pa = 0. # The position angle of the x axis (radians)\n",
    "\n",
    "##############################################\n",
    "\n",
    "# Initialize to start bar formation at t=0 (tform) \n",
    "# Completely formed after two bar periods (tsteady)\n",
    "# Let bar evolve for 30 rotations after growth stops\n",
    "Nrot = 4 #30 # Tbar to evolve # Nrot=3 evolves bar for 3 rotations after growth stops\n",
    "Ngrow = 1 #2 # Tbar to grow bar # Ngrow=1 bar completely formed after one bar periods\n",
    "Nequel = 0 # Tbar to equelibrate\n",
    "\n",
    "tform = 0 #-(Nequel+Ngrow)*2.*np.pi/omegabo # Start time (four bar periods ago) \n",
    "\n",
    "tsteady = Ngrow*2*np.pi/omegabo # time from tform where bar is fully grown\n",
    "\n",
    "print ('This is tsteady from bar potential:',tsteady)\n",
    "\n",
    "##### Grow the bar #####\n",
    "\n",
    "##### Dehnen Bar Potential #####\n",
    "\n",
    "bp = DehnenBarPotential(amp=1, omegab=omegabo, rb=rbo/2, barphi=0, tform=tform, tsteady=tsteady, Af=Ab)\n",
    "\n",
    "##############################################################################################\n",
    "\n",
    "print(simname,' has CR = ',str(CRo*ro))"
   ]
  }
 ],
 "metadata": {
  "kernelspec": {
   "display_name": "Python 3",
   "language": "python",
   "name": "python3"
  },
  "language_info": {
   "codemirror_mode": {
    "name": "ipython",
    "version": 3
   },
   "file_extension": ".py",
   "mimetype": "text/x-python",
   "name": "python",
   "nbconvert_exporter": "python",
   "pygments_lexer": "ipython3",
   "version": "3.8.2"
  }
 },
 "nbformat": 4,
 "nbformat_minor": 4
}
