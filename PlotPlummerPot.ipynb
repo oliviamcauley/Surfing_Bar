{
 "cells": [
  {
   "cell_type": "code",
   "execution_count": null,
   "metadata": {},
   "outputs": [],
   "source": [
    "##### plot plummer potential #####\n",
    "\n",
    "def plotplummerpot(time):\n",
    "    return plotPotentials(sbwp, rmin=-1, rmax=1, nrs=21, zmin=-1, zmax=1, nzs=21, phi=None, xy=True, t=time, effective=False, ncontours=21, aspect=1, justcontours=False, levels=None, cntrcolors=None)\n",
    "\n",
    "plotplummerpot(0)\n",
    "plotplummerpot(np.pi/3)\n",
    "plotplummerpot(np.pi/4)\n",
    "plotplummerpot(np.pi/6)\n",
    "plotplummerpot(np.pi/2)\n",
    "\n",
    "######################################################################################################"
   ]
  }
 ],
 "metadata": {
  "kernelspec": {
   "display_name": "Python 3",
   "language": "python",
   "name": "python3"
  },
  "language_info": {
   "codemirror_mode": {
    "name": "ipython",
    "version": 3
   },
   "file_extension": ".py",
   "mimetype": "text/x-python",
   "name": "python",
   "nbconvert_exporter": "python",
   "pygments_lexer": "ipython3",
   "version": "3.8.2"
  }
 },
 "nbformat": 4,
 "nbformat_minor": 4
}
