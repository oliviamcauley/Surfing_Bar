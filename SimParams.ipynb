{
 "cells": [
  {
   "cell_type": "code",
   "execution_count": null,
   "metadata": {},
   "outputs": [],
   "source": [
    "# Set parameters for initial conditions\n",
    "nsample = 1000     # number of samples\n",
    "nbatch = 10       # number of batches of nsample orbits\n",
    "rmin = 0.375 # sets scaled rmin= 3kpc \n",
    "rmax =1.125      # sets sclaed rmax = 9 kpc\n",
    "zmax = 0.3    # sets scales zmax = 2.4 kpc\n",
    "\n",
    "# Important sim names\n",
    "simname = 'Disk_Bar_Plummer'\n",
    "# simname = 'Disk_Plummer'\n",
    "# simname = 'Disk_Only'\n",
    "# simname = 'Disk_Bar'\n",
    "# simname = 'Disk_SlowBar'\n",
    "# simname = 'posvel'"
   ]
  }
 ],
 "metadata": {
  "kernelspec": {
   "display_name": "Python 3",
   "language": "python",
   "name": "python3"
  },
  "language_info": {
   "codemirror_mode": {
    "name": "ipython",
    "version": 3
   },
   "file_extension": ".py",
   "mimetype": "text/x-python",
   "name": "python",
   "nbconvert_exporter": "python",
   "pygments_lexer": "ipython3",
   "version": "3.8.2"
  }
 },
 "nbformat": 4,
 "nbformat_minor": 4
}
