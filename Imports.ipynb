{
 "cells": [
  {
   "cell_type": "code",
   "execution_count": null,
   "metadata": {},
   "outputs": [],
   "source": [
    "'''Author: Olivia McAuley'''\n",
    "\n",
    "import numpy as np\n",
    "\n",
    "import seaborn as sb\n",
    "import scipy as sc\n",
    "from scipy import stats\n",
    "\n",
    "import astropy\n",
    "from astropy import units\n",
    "from astropy import units as u\n",
    "from astropy import constants as c\n",
    "\n",
    "import galpy\n",
    "import galpy.df\n",
    "from galpy.df import isotropicPlummerdf \n",
    "from galpy.orbit import Orbit\n",
    "from galpy import potential\n",
    "from galpy.potential import PlummerPotential, MWPotential2014, DehnenBarPotential\n",
    "from galpy.potential import RotateAndTiltWrapperPotential, SolidBodyRotationWrapperPotential\n",
    "# from galpy.potential import SoftenedNeedleBarPotential, DehnenSmoothWrapperPotential\n",
    "from galpy.potential import evaluatePotentials, plotPotentials, plotDensities, flatten, rhalf, vcirc, to_amuse\n",
    "from galpy.potential import plotRotcurve, lindbladR, epifreq\n",
    "from galpy.actionAngle import actionAngleAdiabatic, actionAngleStaeckel\n",
    "from galpy.util import conversion, coords\n",
    "from galpy.util.plot import dens2d, scatterplot\n",
    "from galpy.util.conversion import get_physical\n",
    "\n",
    "from datetime import datetime\n",
    "\n",
    "from matplotlib.pyplot import *\n",
    "from matplotlib import pyplot as plt\n",
    "plt.rc('text', usetex=False)\n",
    "plt.rc('font', **{'family':'Computer Modern','size':20})\n",
    "plt.rc('axes', labelsize=16)\n",
    "plt.rc('xtick',labelsize=16)\n",
    "plt.rc('ytick',labelsize=16)\n",
    "import matplotlib.colors as colors\n",
    "from matplotlib import colors as mc\n",
    "from matplotlib import cm\n",
    "from matplotlib.colors import LogNorm\n",
    "# %matplotlib inline\n",
    "\n",
    "from matplotlib import mlab as ml\n",
    "import matplotlib.animation as manimation\n",
    "import matplotlib.animation as animation\n",
    "from matplotlib.animation import FuncAnimation\n",
    "\n",
    "import itertools"
   ]
  }
 ],
 "metadata": {
  "kernelspec": {
   "display_name": "Python 3",
   "language": "python",
   "name": "python3"
  },
  "language_info": {
   "codemirror_mode": {
    "name": "ipython",
    "version": 3
   },
   "file_extension": ".py",
   "mimetype": "text/x-python",
   "name": "python",
   "nbconvert_exporter": "python",
   "pygments_lexer": "ipython3",
   "version": "3.8.2"
  }
 },
 "nbformat": 4,
 "nbformat_minor": 4
}
